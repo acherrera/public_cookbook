{
 "cells": [
  {
   "cell_type": "code",
   "execution_count": 3,
   "id": "453cf45e-82e2-48ea-8e1b-d852df501db7",
   "metadata": {},
   "outputs": [],
   "source": [
    "import requests\n",
    "import shutil\n",
    "from datetime import datetime, timedelta"
   ]
  },
  {
   "cell_type": "code",
   "execution_count": 4,
   "id": "d344a551-b266-407e-8eea-426ea66a883f",
   "metadata": {},
   "outputs": [
    {
     "data": {
      "text/plain": [
       "[1, 6, 11, 16, 21, 26, 31, 36, 41, 46, 51, 56]"
      ]
     },
     "execution_count": 4,
     "metadata": {},
     "output_type": "execute_result"
    }
   ],
   "source": [
    "valid_minutes = []\n",
    "counter = 1\n",
    "while counter < 60:\n",
    "    valid_minutes.append(counter)\n",
    "    counter+=5\n",
    "valid_minutes"
   ]
  },
  {
   "cell_type": "code",
   "execution_count": 5,
   "id": "1a6a5846-e189-48c9-9d43-d2a2f96470d4",
   "metadata": {},
   "outputs": [],
   "source": [
    "aa = datetime.utcnow()\n",
    "# Account for lag in website updating\n",
    "aa = aa - timedelta(minutes=10)\n",
    "aa.strftime(\"%Y%m%d%H%M\")\n",
    "while aa.minute not in valid_minutes:\n",
    "    aa -= timedelta(minutes=1)"
   ]
  },
  {
   "cell_type": "code",
   "execution_count": 6,
   "id": "79296dc7-0a2b-4f70-b528-cf8b907e56b1",
   "metadata": {},
   "outputs": [
    {
     "data": {
      "text/plain": [
       "'20221241336'"
      ]
     },
     "execution_count": 6,
     "metadata": {},
     "output_type": "execute_result"
    }
   ],
   "source": [
    "# WHERE DOES THE 12 COME FROM??\n",
    "ts = aa.strftime(\"%Y12%-d%H%M\")\n",
    "ts"
   ]
  },
  {
   "cell_type": "markdown",
   "id": "83bcc0e0-f3cf-49eb-b5f3-96924cfe8e46",
   "metadata": {},
   "source": [
    "Format should lookg something like this:\n",
    "`20221241321`"
   ]
  },
  {
   "cell_type": "code",
   "execution_count": 63,
   "id": "0db79f98-4ec9-459d-94d8-bc4ffa678de7",
   "metadata": {},
   "outputs": [],
   "source": [
    "url_datetime1 = ts\n",
    "# url_datetime2 = \n",
    "\n",
    "\n",
    "url_map = {\n",
    "    \"visual\": (\n",
    "        f\"https://cdn.star.nesdis.noaa.gov/GOES16/ABI/CONUS/GEOCOLOR/{url_datetime1}_GOES16-ABI-CONUS-GEOCOLOR-2500x1500.jpg\",\n",
    "        \"/home/nmk7ii6/Pictures/visual.jpg\"\n",
    "    ),\n",
    "    \"infra\": (\n",
    "        f\"https://cdn.star.nesdis.noaa.gov/GOES16/ABI/CONUS/Sandwich/{url_datetime1}_GOES16-ABI-CONUS-Sandwich-2500x1500.jpg\",\n",
    "         \"/home/nmk7ii6/Pictures/infra.jpg\"\n",
    "    )\n",
    "}"
   ]
  },
  {
   "cell_type": "code",
   "execution_count": 64,
   "id": "5be8f2bc-423d-46bb-85ab-2c991da73dec",
   "metadata": {},
   "outputs": [],
   "source": [
    "def downloader(url, file_dest):\n",
    "    \"\"\"\n",
    "    Downloads the file to the given dest\n",
    "    Args:\n",
    "        url: \n",
    "    \"\"\"\n",
    "    r = requests.get(url, stream = True)\n",
    "    if r.status_code == 200:\n",
    "        # Set decode_content value to True, otherwise the downloaded image file's size will be zero.\n",
    "        r.raw.decode_content = True\n",
    "\n",
    "        # Open a local file with wb ( write binary ) permission.\n",
    "        with open(file_dest,'wb') as f:\n",
    "            shutil.copyfileobj(r.raw, f)\n",
    "\n",
    "        print('Image sucessfully Downloaded: ',file_dest)\n",
    "    else:\n",
    "        print('Image Couldn\\'t be retreived')"
   ]
  },
  {
   "cell_type": "code",
   "execution_count": 65,
   "id": "563e62e9-7bb4-452a-a910-ee22c07e6e7e",
   "metadata": {},
   "outputs": [
    {
     "name": "stdout",
     "output_type": "stream",
     "text": [
      "https://cdn.star.nesdis.noaa.gov/GOES16/ABI/CONUS/GEOCOLOR/20221241321_GOES16-ABI-CONUS-GEOCOLOR-2500x1500.jpg /home/nmk7ii6/Pictures/visual.jpg\n",
      "Image sucessfully Downloaded:  /home/nmk7ii6/Pictures/visual.jpg\n",
      "https://cdn.star.nesdis.noaa.gov/GOES16/ABI/CONUS/Sandwich/20221241321_GOES16-ABI-CONUS-Sandwich-2500x1500.jpg /home/nmk7ii6/Pictures/infra.jpg\n",
      "Image sucessfully Downloaded:  /home/nmk7ii6/Pictures/infra.jpg\n"
     ]
    }
   ],
   "source": [
    "for i in url_map:\n",
    "    _ = url_map[i]\n",
    "    url = _[0]\n",
    "    dest = _[1]\n",
    "    print(url, dest)\n",
    "    downloader(url, dest)"
   ]
  },
  {
   "cell_type": "code",
   "execution_count": 40,
   "id": "3a032c57-39d3-4cf8-82f1-f9ccc91ccc13",
   "metadata": {},
   "outputs": [
    {
     "data": {
      "text/plain": [
       "[1, 6, 11, 16, 21, 26, 31, 36, 41, 46, 51, 56]"
      ]
     },
     "execution_count": 40,
     "metadata": {},
     "output_type": "execute_result"
    }
   ],
   "source": []
  },
  {
   "cell_type": "code",
   "execution_count": 21,
   "id": "5b9bd16c-4d06-41d7-8227-68e59c0a19a8",
   "metadata": {},
   "outputs": [],
   "source": [
    "from PIL import Image, ImageFont, ImageDraw \n",
    "\n",
    "font = ImageFont.truetype(\"Gidole-Regular.ttf\", size=72)\n",
    "\n",
    "dest = \"/home/nmk7ii6/Pictures/infra.jpg\"\n",
    "text = aa.strftime(\"%Y%m%d%H%M\")\n",
    "my_image = Image.open(dest)\n",
    "image_editable = ImageDraw.Draw(my_image)\n",
    "image_editable.text((100,100), text, (250, 250, 250), font=font)\n",
    "my_image.save(\"result.jpg\")\n",
    "my_image.save(dest)\n",
    "\n"
   ]
  },
  {
   "cell_type": "code",
   "execution_count": null,
   "id": "7843e9e5-a628-4de0-9e37-34fb9befd732",
   "metadata": {},
   "outputs": [],
   "source": []
  }
 ],
 "metadata": {
  "kernelspec": {
   "display_name": "Python 3",
   "language": "python",
   "name": "python3"
  },
  "language_info": {
   "codemirror_mode": {
    "name": "ipython",
    "version": 3
   },
   "file_extension": ".py",
   "mimetype": "text/x-python",
   "name": "python",
   "nbconvert_exporter": "python",
   "pygments_lexer": "ipython3",
   "version": "3.6.9"
  }
 },
 "nbformat": 4,
 "nbformat_minor": 5
}
